{
 "cells": [
  {
   "cell_type": "markdown",
   "id": "d72c038e-e208-4aef-86eb-21a2b07f7abe",
   "metadata": {},
   "source": [
    "## Nötige Software installieren\n",
    "\n",
    "Die folgenden beiden Zellen installieren ein paar benötigte Python-Bibliotheken und laden ein paar vertrauliche Konfigurationsdaten (API-Schlüssel): "
   ]
  },
  {
   "cell_type": "code",
   "execution_count": 1,
   "id": "484918ab-ec39-4ece-a453-3b36ef7412c5",
   "metadata": {},
   "outputs": [],
   "source": [
    "%%capture --no-stderr\n",
    "%pip install --upgrade --quiet chromadb  dotenv langchain langgraph langsmith langchain_chroma langchain-community langchain_openai langchain-unstructured langchain-docling unstructured-client unstructured \"unstructured[pdf]\" python-magic\n",
    "%load_ext dotenv"
   ]
  },
  {
   "cell_type": "code",
   "execution_count": 2,
   "id": "0fd4e799-a137-4723-b639-674a0cf9d88c",
   "metadata": {},
   "outputs": [],
   "source": [
    "%dotenv /home/archive/FerienkursKI/.env"
   ]
  },
  {
   "cell_type": "code",
   "execution_count": null,
   "id": "c53bfafa-796b-4611-a613-e83851d758de",
   "metadata": {},
   "outputs": [],
   "source": []
  },
  {
   "cell_type": "code",
   "execution_count": 11,
   "id": "2d1e5aa3-435e-4202-a7a1-66d12ab4accf",
   "metadata": {},
   "outputs": [],
   "source": [
    "from langchain_docling import DoclingLoader\n",
    "from langchain_docling.loader import ExportType\n",
    "from docling.chunking import HybridChunker, HierarchicalChunker\n",
    "from langchain.text_splitter import RecursiveCharacterTextSplitter\n",
    "from langchain_chroma import Chroma\n",
    "from langchain_openai import OpenAIEmbeddings\n",
    "import chromadb\n",
    "import os"
   ]
  },
  {
   "cell_type": "code",
   "execution_count": 4,
   "id": "e4415d16-3365-4298-9599-b0c481ed2001",
   "metadata": {},
   "outputs": [
    {
     "name": "stderr",
     "output_type": "stream",
     "text": [
      "/opt/conda/lib/python3.11/site-packages/torch/utils/cpp_extension.py:1965: UserWarning: TORCH_CUDA_ARCH_LIST is not set, all archs for visible cards are included for compilation. \n",
      "If this is not desired, please set os.environ['TORCH_CUDA_ARCH_LIST'].\n",
      "  warnings.warn(\n",
      "Token indices sequence length is longer than the specified maximum sequence length for this model (2468 > 512). Running this sequence through the model will result in indexing errors\n"
     ]
    }
   ],
   "source": [
    "# Pfad der PDF-Datei\n",
    "pdf_path = \"./data/Koalitionsvertrag-2025-1.pdf\" \n",
    "\n",
    "chunker = HybridChunker()\n",
    "loader = DoclingLoader(file_path=pdf_path, chunker=chunker)\n",
    "docling = loader.load()"
   ]
  },
  {
   "cell_type": "code",
   "execution_count": 5,
   "id": "e0a1ba3e-b501-4c58-a6cf-8bea0db52308",
   "metadata": {},
   "outputs": [],
   "source": [
    "# Chunking\n",
    "text_splitter = RecursiveCharacterTextSplitter(chunk_size=500, chunk_overlap=100)\n",
    "chunks = text_splitter.split_documents(docling)"
   ]
  },
  {
   "cell_type": "code",
   "execution_count": 6,
   "id": "1fa45ed1-f3ad-4b06-a092-c5760b278f76",
   "metadata": {},
   "outputs": [
    {
     "data": {
      "text/plain": [
       "(1496, 446)"
      ]
     },
     "execution_count": 6,
     "metadata": {},
     "output_type": "execute_result"
    }
   ],
   "source": [
    "len(chunks), len(docling)"
   ]
  },
  {
   "cell_type": "code",
   "execution_count": 7,
   "id": "4c1025c3-94a4-440b-86b1-6e42652bbf47",
   "metadata": {},
   "outputs": [
    {
     "data": {
      "text/plain": [
       "2"
      ]
     },
     "execution_count": 7,
     "metadata": {},
     "output_type": "execute_result"
    }
   ],
   "source": [
    "chunks[1].metadata['dl_meta']['doc_items'][0]['prov'][0]['page_no']"
   ]
  },
  {
   "cell_type": "code",
   "execution_count": 8,
   "id": "e5a39552-6d58-414d-b7f6-f5dc7bde3b8c",
   "metadata": {},
   "outputs": [],
   "source": [
    "# Initialisiere Chunks und Metadaten für den VectorStore\n",
    "for chunk in chunks:\n",
    "    meta = {\n",
    "            \"source\": chunk.metadata['source'],\n",
    "            \"heading\": chunk.metadata['dl_meta']['headings'][0],\n",
    "            \"page\": chunk.metadata['dl_meta']['doc_items'][0]['prov'][0]['page_no']\n",
    "        }\n",
    "    chunk.metadata = meta\n",
    "\n"
   ]
  },
  {
   "cell_type": "code",
   "execution_count": 9,
   "id": "f1996e24-01d2-4f51-a5ea-aba6964fedc3",
   "metadata": {},
   "outputs": [
    {
     "data": {
      "text/plain": [
       "Document(metadata={'source': './data/Koalitionsvertrag-2025-1.pdf', 'heading': 'Verantwortung für Deutschland', 'page': 1}, page_content='Verantwortung für Deutschland\\nKoalitionsvertrag zwischen CDU, CSU und SPD\\n21. Legislaturperiode')"
      ]
     },
     "execution_count": 9,
     "metadata": {},
     "output_type": "execute_result"
    }
   ],
   "source": [
    "chunks[0]"
   ]
  },
  {
   "cell_type": "code",
   "execution_count": 18,
   "id": "70c4198f-d85d-437b-a115-de20a09e52a2",
   "metadata": {},
   "outputs": [],
   "source": [
    "embeddings = OpenAIEmbeddings(model=\"text-embedding-3-large\")\n",
    "\n",
    "chromadb.configure(allow_reset=True)\n",
    "\n",
    "client = chromadb.PersistentClient(path=\"./chroma\")\n",
    "#client.list_collections() "
   ]
  },
  {
   "cell_type": "code",
   "execution_count": 26,
   "id": "5a5a82bd-2c12-43ab-a9cd-8eda8fd66d21",
   "metadata": {},
   "outputs": [
    {
     "data": {
      "text/plain": [
       "['Koalitionsvertrag']"
      ]
     },
     "execution_count": 26,
     "metadata": {},
     "output_type": "execute_result"
    }
   ],
   "source": [
    "client.list_collections()"
   ]
  },
  {
   "cell_type": "code",
   "execution_count": 22,
   "id": "485c4a4e-c524-463c-ba70-0a5ef8c7adfb",
   "metadata": {},
   "outputs": [],
   "source": [
    "vector_store = Chroma(\n",
    "    client=client,\n",
    "    collection_name=\"Koalitionsvertrag\",\n",
    "    embedding_function=embeddings,\n",
    ")"
   ]
  },
  {
   "cell_type": "code",
   "execution_count": 23,
   "id": "11f62cd3-d12d-4a06-8aee-b858a29c38fa",
   "metadata": {},
   "outputs": [],
   "source": [
    "ids = vector_store.add_documents(documents=chunks)"
   ]
  },
  {
   "cell_type": "code",
   "execution_count": 24,
   "id": "55246aaa-4388-4cc5-83e1-4f41f667ef36",
   "metadata": {},
   "outputs": [],
   "source": [
    "retriever = vector_store.as_retriever()\n",
    "docs = retriever.invoke(\"Was steht im Koalitionsvertrag zum Thema Bildung?\")"
   ]
  },
  {
   "cell_type": "code",
   "execution_count": 25,
   "id": "73e857cd-fe29-44a9-82fb-819b09144257",
   "metadata": {},
   "outputs": [
    {
     "data": {
      "text/plain": [
       "[Document(id='d20bcffd-a218-4fd7-aaeb-b1b321e9450a', metadata={'heading': '4.1. Familien, Frauen, Jugend, Senioren und Demokratie 3106', 'page': 100, 'source': './data/Koalitionsvertrag-2025-1.pdf'}, page_content='= bereits in Krippen und Kitas gelegt. Wir werden in Neubau, Ausbau, Sanierung und Modernisierung. 3126, 1 = (etwa für Inklusion, Arbeitsschutz, AusstaƩung und Digitalisierung) invesƟeren, um frühkindliche. 3127, 1 = Bildung zu ermöglichen.. 3128, 1 = Ganztag. 3129, 1 = Den Ganztagsausbau treiben wir voran. Wir halten am Ausbauziel für die Ganztagsbetreuung in der. 3130, 1 = Grundschule fest. Dafür werden wir bürokraƟsche Hürden abbauen. Der Rechtsanspruch soll. 3131, 1 = deutschlandweit mit'),\n",
       " Document(id='b0deca60-43f7-4f30-8824-d70d1357aa27', metadata={'heading': 'DemokraƟe- und Medienbildung 2339', 'page': 75, 'source': './data/Koalitionsvertrag-2025-1.pdf'}, page_content=\"2351, 1 = Für mehr Verlässlichkeit und Qualität im Schulsystem sowie bei der Personalgewinnung nutzen wir den. 2352, 1 = ZukunŌsvertrag Studium und Lehre und legen die 'Qualitätsoffensive Lehrerbildung' neu auf.. 2353, 1 = Bildungsforschung. 2354, 1 = In der Bildungsforschung legen wir einen Schwerpunkt auf Bildungsübergänge, die. 2355, 1 = BildungsorganisaƟons- und -implemenƟerungsforschung und treiben den Transfer in die Praxis voran.. 2356, 1 = Aus dem gemeinsamen Bildungsmonitoring sollen\"),\n",
       " Document(id='1e629915-010f-4943-8972-2e30095c8629', metadata={'heading': '2.4. Bildung, Forschung und Innovation 2300', 'page': 73, 'source': './data/Koalitionsvertrag-2025-1.pdf'}, page_content='Kinder und Jugendliche sollen ihr Potenzial unabhängig von ihrer HerkunŌ ausschöpfen können. Als 2301 rohstoffarmes Industrieland brauchen wir ein modernes Bildungssystem, das individuelle Bedarfe der 2302 Schülerinnen und Schüler berücksichƟgt und die DemokraƟe stärkt. Wir fördern BildungsgerechƟgkeit, 2303 Leistungsfähigkeit und Inklusion. Wir werden frühkindliche Bildung sowie Bildungsübergänge stärken 2304 und die Zahl der Jugendlichen ohne Abschluss senken. Unser anerkanntes Ausund 2305'),\n",
       " Document(id='75e88da4-3762-4aa5-a68b-e7447516161e', metadata={'heading': 'Bund-Länder-Zusammenarbeit 2313', 'page': 74, 'source': './data/Koalitionsvertrag-2025-1.pdf'}, page_content='Umsetzung 2317 gemeinsamer Projekte und für konstrukƟve KooperaƟon vereinbaren. Unter Achtung der jeweiligen 2318 Zuständigkeiten  wollen  wir  gemeinsam  mit  den  Ländern  für  die  nächste  Dekade  relevante  und 2319 messbare Bildungsziele vereinbaren und eine datengestützte Schulentwicklung und das 2320 Bildungsverlaufsregister schaffen. Die Einführung einer zwischen den Ländern kompaƟblen, 2321 datenschutzkonformen Schüler-ID unterstützen wir und ermöglichen die Verknüpfung mit der')]"
      ]
     },
     "execution_count": 25,
     "metadata": {},
     "output_type": "execute_result"
    }
   ],
   "source": [
    "docs"
   ]
  },
  {
   "cell_type": "code",
   "execution_count": null,
   "id": "d5f05f15-f847-4509-8849-c2fb0fea3cea",
   "metadata": {},
   "outputs": [],
   "source": []
  }
 ],
 "metadata": {
  "kernelspec": {
   "display_name": "Python 3 (ipykernel)",
   "language": "python",
   "name": "python3"
  },
  "language_info": {
   "codemirror_mode": {
    "name": "ipython",
    "version": 3
   },
   "file_extension": ".py",
   "mimetype": "text/x-python",
   "name": "python",
   "nbconvert_exporter": "python",
   "pygments_lexer": "ipython3",
   "version": "3.11.6"
  }
 },
 "nbformat": 4,
 "nbformat_minor": 5
}
