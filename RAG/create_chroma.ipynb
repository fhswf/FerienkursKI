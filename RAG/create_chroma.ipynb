{
 "cells": [
  {
   "cell_type": "markdown",
   "id": "d72c038e-e208-4aef-86eb-21a2b07f7abe",
   "metadata": {},
   "source": [
    "# Bereitstellen von Informationen aus einem PDF-Dokument\n",
    "\n",
    "Dieses Notebook stellt Informationen aus einer PDF-Datei als spezielle Datenbank, einem sogenannten `VectorStore` zur Verfügung.\n",
    "Weitere Informationen findest Du in [diesem Notebook](./index.ipynb).\n",
    "\n",
    "\n",
    "## Nötige Software installieren\n",
    "\n",
    "Die folgenden beiden Zellen installieren ein paar benötigte Python-Bibliotheken und laden ein paar vertrauliche Konfigurationsdaten (API-Schlüssel): "
   ]
  },
  {
   "cell_type": "code",
   "execution_count": null,
   "id": "484918ab-ec39-4ece-a453-3b36ef7412c5",
   "metadata": {},
   "outputs": [],
   "source": [
    "%%capture --no-stderr\n",
    "%pip install --upgrade --quiet chromadb  dotenv langchain langgraph langsmith langchain_chroma langchain-community langchain_openai langchain-unstructured langchain-docling unstructured-client unstructured \"unstructured[pdf]\" python-magic\n",
    "%load_ext dotenv"
   ]
  },
  {
   "cell_type": "code",
   "execution_count": null,
   "id": "0fd4e799-a137-4723-b639-674a0cf9d88c",
   "metadata": {},
   "outputs": [],
   "source": [
    "%dotenv /home/archive/FerienkursKI/.env"
   ]
  },
  {
   "cell_type": "markdown",
   "id": "c53bfafa-796b-4611-a613-e83851d758de",
   "metadata": {},
   "source": [
    "Wir laden nun die benötigten Python-Pakete, um PDF-Dateien zu verarbeiten und die Datenbank zu erstellen."
   ]
  },
  {
   "cell_type": "code",
   "execution_count": null,
   "id": "2d1e5aa3-435e-4202-a7a1-66d12ab4accf",
   "metadata": {},
   "outputs": [],
   "source": [
    "from langchain_docling import DoclingLoader\n",
    "from langchain_docling.loader import ExportType\n",
    "from docling.chunking import HybridChunker, HierarchicalChunker\n",
    "from langchain.text_splitter import RecursiveCharacterTextSplitter\n",
    "from langchain_chroma import Chroma\n",
    "from langchain_openai import OpenAIEmbeddings\n",
    "import chromadb\n",
    "import os"
   ]
  },
  {
   "cell_type": "markdown",
   "id": "d0d96fad",
   "metadata": {},
   "source": [
    "Zur Verarbeitung der PDF-Dateien verwenden Docling."
   ]
  },
  {
   "cell_type": "code",
   "execution_count": null,
   "id": "e4415d16-3365-4298-9599-b0c481ed2001",
   "metadata": {},
   "outputs": [],
   "source": [
    "# Pfad der PDF-Datei\n",
    "pdf_path = \"./data/Koalitionsvertrag-2025-1.pdf\" \n",
    "\n",
    "chunker = HybridChunker()\n",
    "loader = DoclingLoader(file_path=pdf_path, chunker=chunker)\n",
    "docling = loader.load()"
   ]
  },
  {
   "cell_type": "markdown",
   "id": "9a233967",
   "metadata": {},
   "source": []
  },
  {
   "cell_type": "markdown",
   "id": "1fd523d7",
   "metadata": {},
   "source": [
    "Wir teilen den Text in \"Chunks\" auf, um die Verarbeitung zu erleichtern."
   ]
  },
  {
   "cell_type": "code",
   "execution_count": null,
   "id": "e0a1ba3e-b501-4c58-a6cf-8bea0db52308",
   "metadata": {},
   "outputs": [],
   "source": [
    "# Chunking\n",
    "text_splitter = RecursiveCharacterTextSplitter(chunk_size=500, chunk_overlap=100)\n",
    "chunks = text_splitter.split_documents(docling)"
   ]
  },
  {
   "cell_type": "markdown",
   "id": "46af0e5f",
   "metadata": {},
   "source": [
    "Unser VectorStore kommt mit den von Docling gelieferten Metadaten nicht klar, daher vereinfachen wir die Metadaten."
   ]
  },
  {
   "cell_type": "code",
   "execution_count": null,
   "id": "e5a39552-6d58-414d-b7f6-f5dc7bde3b8c",
   "metadata": {},
   "outputs": [],
   "source": [
    "# Initialisiere Chunks und Metadaten für den VectorStore\n",
    "for chunk in chunks:\n",
    "    meta = {\n",
    "            \"source\": chunk.metadata['source'],\n",
    "            \"heading\": chunk.metadata['dl_meta']['headings'][0],\n",
    "            \"page\": chunk.metadata['dl_meta']['doc_items'][0]['prov'][0]['page_no']\n",
    "        }\n",
    "    chunk.metadata = meta\n",
    "\n"
   ]
  },
  {
   "cell_type": "code",
   "execution_count": null,
   "id": "f1996e24-01d2-4f51-a5ea-aba6964fedc3",
   "metadata": {},
   "outputs": [
    {
     "data": {
      "text/plain": [
       "Document(metadata={'source': './data/Koalitionsvertrag-2025-1.pdf', 'heading': 'Verantwortung für Deutschland', 'page': 1}, page_content='Verantwortung für Deutschland\\nKoalitionsvertrag zwischen CDU, CSU und SPD\\n21. Legislaturperiode')"
      ]
     },
     "execution_count": 9,
     "metadata": {},
     "output_type": "execute_result"
    }
   ],
   "source": [
    "chunks[0]"
   ]
  },
  {
   "cell_type": "markdown",
   "id": "334f841f",
   "metadata": {},
   "source": [
    "Nun erzeugen wir den VectorStore und speichern ihn in der Chroma-Datenbank."
   ]
  },
  {
   "cell_type": "code",
   "execution_count": null,
   "id": "70c4198f-d85d-437b-a115-de20a09e52a2",
   "metadata": {},
   "outputs": [],
   "source": [
    "embeddings = OpenAIEmbeddings(model=\"text-embedding-3-large\")\n",
    "\n",
    "chromadb.configure(allow_reset=True)\n",
    "\n",
    "client = chromadb.PersistentClient(path=\"./chroma\")\n",
    "#client.list_collections() "
   ]
  },
  {
   "cell_type": "code",
   "execution_count": null,
   "id": "485c4a4e-c524-463c-ba70-0a5ef8c7adfb",
   "metadata": {},
   "outputs": [],
   "source": [
    "vector_store = Chroma(\n",
    "    client=client,\n",
    "    collection_name=\"Koalitionsvertrag\",\n",
    "    embedding_function=embeddings,\n",
    ")"
   ]
  },
  {
   "cell_type": "code",
   "execution_count": null,
   "id": "11f62cd3-d12d-4a06-8aee-b858a29c38fa",
   "metadata": {},
   "outputs": [],
   "source": [
    "ids = vector_store.add_documents(documents=chunks)"
   ]
  },
  {
   "cell_type": "markdown",
   "id": "3b9e7aff",
   "metadata": {},
   "source": [
    "Die folgende Zelle zeigt beispielhaft, wie Du den VectorStore verwenden kannst."
   ]
  },
  {
   "cell_type": "code",
   "execution_count": null,
   "id": "55246aaa-4388-4cc5-83e1-4f41f667ef36",
   "metadata": {},
   "outputs": [],
   "source": [
    "retriever = vector_store.as_retriever()\n",
    "docs = retriever.invoke(\"Was steht im Koalitionsvertrag zum Thema Bildung?\")"
   ]
  },
  {
   "cell_type": "code",
   "execution_count": null,
   "id": "73e857cd-fe29-44a9-82fb-819b09144257",
   "metadata": {},
   "outputs": [],
   "source": [
    "docs"
   ]
  }
 ],
 "metadata": {
  "kernelspec": {
   "display_name": "Python 3 (ipykernel)",
   "language": "python",
   "name": "python3"
  },
  "language_info": {
   "codemirror_mode": {
    "name": "ipython",
    "version": 3
   },
   "file_extension": ".py",
   "mimetype": "text/x-python",
   "name": "python",
   "nbconvert_exporter": "python",
   "pygments_lexer": "ipython3",
   "version": "3.11.6"
  }
 },
 "nbformat": 4,
 "nbformat_minor": 5
}
